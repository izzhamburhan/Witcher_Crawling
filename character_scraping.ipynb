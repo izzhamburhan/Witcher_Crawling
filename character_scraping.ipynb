{
 "cells": [
  {
   "cell_type": "code",
   "execution_count": 23,
   "id": "ffa03a74-f2fb-40ad-8cb8-a1b825515ac1",
   "metadata": {},
   "outputs": [],
   "source": [
    "import pandas as pd\n",
    "import time\n",
    "from selenium import webdriver\n",
    "from selenium.webdriver.common.by import By\n",
    "from webdriver_manager.chrome import ChromeDriverManager"
   ]
  },
  {
   "cell_type": "code",
   "execution_count": 24,
   "id": "e61401f3-d3b4-42dc-81f6-3421f9c0d97a",
   "metadata": {},
   "outputs": [
    {
     "name": "stdout",
     "output_type": "stream",
     "text": [
      "\n"
     ]
    },
    {
     "name": "stderr",
     "output_type": "stream",
     "text": [
      "C:\\Users\\Izzham\\AppData\\Local\\Temp\\ipykernel_10628\\1503906442.py:1: DeprecationWarning: executable_path has been deprecated, please pass in a Service object\n",
      "  driver = webdriver.Chrome(ChromeDriverManager().install())\n"
     ]
    }
   ],
   "source": [
    "driver = webdriver.Chrome(ChromeDriverManager().install())"
   ]
  },
  {
   "cell_type": "code",
   "execution_count": 25,
   "id": "27e1244d-7dff-47b3-888e-02532312fcb5",
   "metadata": {},
   "outputs": [],
   "source": [
    "page_url = \"https://witcher.fandom.com/wiki/Category:Characters_in_the_stories\"\n",
    "driver.get(page_url)"
   ]
  },
  {
   "cell_type": "code",
   "execution_count": 49,
   "id": "7a95fa04-3b40-4ba6-8d5a-174046d0dec1",
   "metadata": {},
   "outputs": [],
   "source": [
    "# book_categories = driver.find_elements_by_class_name('category-page__member-link')\n",
    "# old code -> change to new code which is :\n",
    "book_categories = driver.find_elements(By.CLASS_NAME,'category-page__member-link')"
   ]
  },
  {
   "cell_type": "code",
   "execution_count": 51,
   "id": "b8eac51a-1b2f-4567-aa60-acdf8f8f2b84",
   "metadata": {},
   "outputs": [
    {
     "data": {
      "text/plain": [
       "'Category:Baptism of Fire characters'"
      ]
     },
     "execution_count": 51,
     "metadata": {},
     "output_type": "execute_result"
    }
   ],
   "source": [
    "book_categories[0].text"
   ]
  },
  {
   "cell_type": "code",
   "execution_count": 53,
   "id": "fa2b668d-6b7c-46ae-94a6-9c3ce25c4b8a",
   "metadata": {},
   "outputs": [
    {
     "data": {
      "text/plain": [
       "'https://witcher.fandom.com/wiki/Category:Baptism_of_Fire_characters'"
      ]
     },
     "execution_count": 53,
     "metadata": {},
     "output_type": "execute_result"
    }
   ],
   "source": [
    "book_categories[0].get_attribute('href')"
   ]
  },
  {
   "cell_type": "code",
   "execution_count": null,
   "id": "df16e79b-6e64-49e4-850f-8b95030b4b47",
   "metadata": {},
   "outputs": [],
   "source": [
    "character = driver.find_elements(By.CLASS_NAME,'category-page__member-link')"
   ]
  }
 ],
 "metadata": {
  "kernelspec": {
   "display_name": "Python 3 (ipykernel)",
   "language": "python",
   "name": "python3"
  },
  "language_info": {
   "codemirror_mode": {
    "name": "ipython",
    "version": 3
   },
   "file_extension": ".py",
   "mimetype": "text/x-python",
   "name": "python",
   "nbconvert_exporter": "python",
   "pygments_lexer": "ipython3",
   "version": "3.8.10"
  }
 },
 "nbformat": 4,
 "nbformat_minor": 5
}
